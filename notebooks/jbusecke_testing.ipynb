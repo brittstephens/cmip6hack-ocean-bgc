{
 "cells": [
  {
   "cell_type": "markdown",
   "metadata": {},
   "source": [
    "Make sure to manually install [cmip6_preprocessing](https://github.com/jbusecke/cmip6_preprocessing) by doing the following in the terminal:\n",
    "\n",
    "```shell\n",
    "git clone https://github.com/jbusecke/cmip6_preprocessing.git #You only need to do this once!!!\n",
    "cd cmip6_preprocessing # These you need to do each time after restarting\n",
    "python setup.py develop\n",
    "```"
   ]
  },
  {
   "cell_type": "code",
   "execution_count": 1,
   "metadata": {},
   "outputs": [],
   "source": [
    "%load_ext autoreload\n",
    "%autoreload 2"
   ]
  },
  {
   "cell_type": "code",
   "execution_count": 2,
   "metadata": {},
   "outputs": [],
   "source": [
    "# Still need to recreate dzt!!!!"
   ]
  },
  {
   "cell_type": "code",
   "execution_count": 3,
   "metadata": {},
   "outputs": [
    {
     "name": "stderr",
     "output_type": "stream",
     "text": [
      "/srv/conda/envs/notebook/lib/python3.7/site-packages/intake/source/discovery.py:136: FutureWarning: The drivers ['stac-catalog', 'stac-collection', 'stac-item'] do not specify entry_points and were only discovered via a package scan. This may break in a future release of intake. The packages should be updated.\n",
      "  FutureWarning)\n"
     ]
    }
   ],
   "source": [
    "%matplotlib inline\n",
    "import xarray as xr\n",
    "import intake\n",
    "import util\n",
    "import warnings\n",
    "from cmip6_preprocessing.preprocessing import full_preprocessing, read_data, import_data"
   ]
  },
  {
   "cell_type": "code",
   "execution_count": 4,
   "metadata": {},
   "outputs": [
    {
     "data": {
      "text/plain": [
       "pangeo-cmip6-ESM Collection with 28657 entries:\n",
       "\t> 10 activity_id(s)\n",
       "\n",
       "\t> 23 institution_id(s)\n",
       "\n",
       "\t> 48 source_id(s)\n",
       "\n",
       "\t> 29 experiment_id(s)\n",
       "\n",
       "\t> 86 member_id(s)\n",
       "\n",
       "\t> 23 table_id(s)\n",
       "\n",
       "\t> 190 variable_id(s)\n",
       "\n",
       "\t> 7 grid_label(s)\n",
       "\n",
       "\t> 28657 zstore(s)\n",
       "\n",
       "\t> 59 dcpp_init_year(s)"
      ]
     },
     "execution_count": 4,
     "metadata": {},
     "output_type": "execute_result"
    }
   ],
   "source": [
    "if util.is_ncar_host():\n",
    "    col = intake.open_esm_datastore(\"../catalogs/glade-cmip6.json\")\n",
    "else:\n",
    "    col = intake.open_esm_datastore(\"../catalogs/pangeo-cmip6.json\")\n",
    "col"
   ]
  },
  {
   "cell_type": "code",
   "execution_count": 6,
   "metadata": {},
   "outputs": [
    {
     "data": {
      "text/html": [
       "<div>\n",
       "<style scoped>\n",
       "    .dataframe tbody tr th:only-of-type {\n",
       "        vertical-align: middle;\n",
       "    }\n",
       "\n",
       "    .dataframe tbody tr th {\n",
       "        vertical-align: top;\n",
       "    }\n",
       "\n",
       "    .dataframe thead th {\n",
       "        text-align: right;\n",
       "    }\n",
       "</style>\n",
       "<table border=\"1\" class=\"dataframe\">\n",
       "  <thead>\n",
       "    <tr style=\"text-align: right;\">\n",
       "      <th></th>\n",
       "      <th>activity_id</th>\n",
       "      <th>institution_id</th>\n",
       "      <th>source_id</th>\n",
       "      <th>experiment_id</th>\n",
       "      <th>member_id</th>\n",
       "      <th>table_id</th>\n",
       "      <th>variable_id</th>\n",
       "      <th>grid_label</th>\n",
       "      <th>zstore</th>\n",
       "      <th>dcpp_init_year</th>\n",
       "    </tr>\n",
       "  </thead>\n",
       "  <tbody>\n",
       "    <tr>\n",
       "      <th>13078</th>\n",
       "      <td>CMIP</td>\n",
       "      <td>NASA-GISS</td>\n",
       "      <td>GISS-E2-1-H</td>\n",
       "      <td>piControl</td>\n",
       "      <td>r1i1p1f1</td>\n",
       "      <td>Ofx</td>\n",
       "      <td>areacello</td>\n",
       "      <td>gr</td>\n",
       "      <td>gs://cmip6/CMIP/NASA-GISS/GISS-E2-1-H/piContro...</td>\n",
       "      <td>NaN</td>\n",
       "    </tr>\n",
       "    <tr>\n",
       "      <th>13718</th>\n",
       "      <td>CMIP</td>\n",
       "      <td>NCAR</td>\n",
       "      <td>CESM2-WACCM</td>\n",
       "      <td>piControl</td>\n",
       "      <td>r1i1p1f1</td>\n",
       "      <td>Ofx</td>\n",
       "      <td>areacello</td>\n",
       "      <td>gr</td>\n",
       "      <td>gs://cmip6/CMIP/NCAR/CESM2-WACCM/piControl/r1i...</td>\n",
       "      <td>NaN</td>\n",
       "    </tr>\n",
       "    <tr>\n",
       "      <th>14192</th>\n",
       "      <td>CMIP</td>\n",
       "      <td>NCAR</td>\n",
       "      <td>CESM2</td>\n",
       "      <td>historical</td>\n",
       "      <td>r10i1p1f1</td>\n",
       "      <td>Ofx</td>\n",
       "      <td>areacello</td>\n",
       "      <td>gr</td>\n",
       "      <td>gs://cmip6/CMIP/NCAR/CESM2/historical/r10i1p1f...</td>\n",
       "      <td>NaN</td>\n",
       "    </tr>\n",
       "    <tr>\n",
       "      <th>16613</th>\n",
       "      <td>CMIP</td>\n",
       "      <td>NOAA-GFDL</td>\n",
       "      <td>GFDL-CM4</td>\n",
       "      <td>piControl</td>\n",
       "      <td>r1i1p1f1</td>\n",
       "      <td>Ofx</td>\n",
       "      <td>areacello</td>\n",
       "      <td>gr</td>\n",
       "      <td>gs://cmip6/CMIP/NOAA-GFDL/GFDL-CM4/piControl/r...</td>\n",
       "      <td>NaN</td>\n",
       "    </tr>\n",
       "    <tr>\n",
       "      <th>16688</th>\n",
       "      <td>CMIP</td>\n",
       "      <td>NOAA-GFDL</td>\n",
       "      <td>GFDL-ESM4</td>\n",
       "      <td>historical</td>\n",
       "      <td>r1i1p1f1</td>\n",
       "      <td>Ofx</td>\n",
       "      <td>areacello</td>\n",
       "      <td>gr</td>\n",
       "      <td>gs://cmip6/CMIP/NOAA-GFDL/GFDL-ESM4/historical...</td>\n",
       "      <td>NaN</td>\n",
       "    </tr>\n",
       "  </tbody>\n",
       "</table>\n",
       "</div>"
      ],
      "text/plain": [
       "      activity_id institution_id    source_id experiment_id  member_id  \\\n",
       "13078        CMIP      NASA-GISS  GISS-E2-1-H     piControl   r1i1p1f1   \n",
       "13718        CMIP           NCAR  CESM2-WACCM     piControl   r1i1p1f1   \n",
       "14192        CMIP           NCAR        CESM2    historical  r10i1p1f1   \n",
       "16613        CMIP      NOAA-GFDL     GFDL-CM4     piControl   r1i1p1f1   \n",
       "16688        CMIP      NOAA-GFDL    GFDL-ESM4    historical   r1i1p1f1   \n",
       "\n",
       "      table_id variable_id grid_label  \\\n",
       "13078      Ofx   areacello         gr   \n",
       "13718      Ofx   areacello         gr   \n",
       "14192      Ofx   areacello         gr   \n",
       "16613      Ofx   areacello         gr   \n",
       "16688      Ofx   areacello         gr   \n",
       "\n",
       "                                                  zstore  dcpp_init_year  \n",
       "13078  gs://cmip6/CMIP/NASA-GISS/GISS-E2-1-H/piContro...             NaN  \n",
       "13718  gs://cmip6/CMIP/NCAR/CESM2-WACCM/piControl/r1i...             NaN  \n",
       "14192  gs://cmip6/CMIP/NCAR/CESM2/historical/r10i1p1f...             NaN  \n",
       "16613  gs://cmip6/CMIP/NOAA-GFDL/GFDL-CM4/piControl/r...             NaN  \n",
       "16688  gs://cmip6/CMIP/NOAA-GFDL/GFDL-ESM4/historical...             NaN  "
      ]
     },
     "execution_count": 6,
     "metadata": {},
     "output_type": "execute_result"
    }
   ],
   "source": [
    "col.search(variable_id=['areacello'], grid_label='gr').df.drop_duplicates(subset='source_id')"
   ]
  },
  {
   "cell_type": "code",
   "execution_count": 10,
   "metadata": {},
   "outputs": [
    {
     "name": "stdout",
     "output_type": "stream",
     "text": [
      "--> The keys in the returned dictionary of datasets are constructed as follows:\n",
      "\t'activity_id.institution_id.source_id.experiment_id.table_id.grid_label'\n",
      "\n",
      "--> There will be 1 group(s)\n",
      "--> The keys in the returned dictionary of datasets are constructed as follows:\n",
      "\t'activity_id.institution_id.source_id.experiment_id.table_id.grid_label'\n",
      "\n",
      "--> There will be 1 group(s)\n",
      "--> The keys in the returned dictionary of datasets are constructed as follows:\n",
      "\t'activity_id.institution_id.source_id.experiment_id.table_id.grid_label'\n",
      "\n",
      "--> There will be 1 group(s)\n",
      "CESM2\n",
      "Grid Type: B detected\n"
     ]
    }
   ],
   "source": [
    "with warnings.catch_warnings(): # these lines just make sure that the warnings dont clutter your notebook\n",
    "    warnings.simplefilter(\"ignore\")\n",
    "    data_dict = read_data(col,\n",
    "                    experiment_id=['piControl'],\n",
    "                    grid_label='gn',\n",
    "                    variable_id=['thetao', 'uo', 'vo'],#,\n",
    "#                     member_id = 'r1i1p1f1', # so that this runs faster for testing\n",
    "                    source_id = ['CESM2']\n",
    "                    )"
   ]
  },
  {
   "cell_type": "code",
   "execution_count": 11,
   "metadata": {},
   "outputs": [],
   "source": [
    "from xgcm import Grid"
   ]
  },
  {
   "cell_type": "code",
   "execution_count": 15,
   "metadata": {},
   "outputs": [],
   "source": [
    "ds = data_dict['CESM2']\n",
    "grid = Grid(*standardized_metrics(ds))"
   ]
  },
  {
   "cell_type": "code",
   "execution_count": 16,
   "metadata": {},
   "outputs": [
    {
     "data": {
      "text/plain": [
       "<xgcm.Grid>\n",
       "Y Axis (periodic):\n",
       "  * center   y --> left\n",
       "  * left     y_left --> center\n",
       "X Axis (periodic):\n",
       "  * center   x --> left\n",
       "  * left     x_left --> center\n",
       "Z Axis (periodic):\n",
       "  * center   lev\n",
       "T Axis (periodic):\n",
       "  * center   time"
      ]
     },
     "execution_count": 16,
     "metadata": {},
     "output_type": "execute_result"
    }
   ],
   "source": [
    "grid.average()"
   ]
  },
  {
   "cell_type": "code",
   "execution_count": 10,
   "metadata": {},
   "outputs": [
    {
     "data": {
      "text/plain": [
       "{'BCC-CSM2-MR': {'x': ['lon'],\n",
       "  'y': ['lat'],\n",
       "  'lon': ['longitude'],\n",
       "  'lat': ['latitude'],\n",
       "  'lev': ['lev'],\n",
       "  'lev_bounds': ['lev_bounds'],\n",
       "  'lon_bounds': ['lon_bnds'],\n",
       "  'lat_bounds': ['lat_bnds'],\n",
       "  'vertex': ['vertex']},\n",
       " 'BCC-ESM1': {'x': ['lon'],\n",
       "  'y': ['lat'],\n",
       "  'lon': ['longitude'],\n",
       "  'lat': ['latitude'],\n",
       "  'lev': ['lev'],\n",
       "  'lev_bounds': ['lev_bounds'],\n",
       "  'lon_bounds': ['lon_bnds'],\n",
       "  'lat_bounds': ['lat_bnds'],\n",
       "  'vertex': ['vertex']},\n",
       " 'CAMS-CSM1-0': {'x': ['i'],\n",
       "  'y': ['j'],\n",
       "  'lon': ['longitude'],\n",
       "  'lat': ['latitude'],\n",
       "  'lev': ['lev'],\n",
       "  'lev_bounds': ['lev_bounds'],\n",
       "  'lon_bounds': None,\n",
       "  'lat_bounds': None,\n",
       "  'vertex': None},\n",
       " 'CanESM5': {'x': ['i'],\n",
       "  'y': ['j'],\n",
       "  'lon': ['longitude'],\n",
       "  'lat': ['latitude'],\n",
       "  'lev': ['lev'],\n",
       "  'lev_bounds': ['lev_bounds'],\n",
       "  'lon_bounds': None,\n",
       "  'lat_bounds': None,\n",
       "  'vertex': None},\n",
       " 'CNRM-CM6-1': {'x': ['x'],\n",
       "  'y': ['y'],\n",
       "  'lon': ['lon'],\n",
       "  'lat': ['lat'],\n",
       "  'lev': ['lev'],\n",
       "  'lev_bounds': ['lev_bounds'],\n",
       "  'lon_bounds': None,\n",
       "  'lat_bounds': None},\n",
       " 'CNRM-ESM2-1': {'x': ['x'],\n",
       "  'y': ['y'],\n",
       "  'lon': ['lon'],\n",
       "  'lat': ['lat'],\n",
       "  'lev': ['lev'],\n",
       "  'lev_bounds': ['lev_bounds'],\n",
       "  'lon_bounds': None,\n",
       "  'lat_bounds': None},\n",
       " 'EC-Earth3-LR': {'x': ['i'],\n",
       "  'y': ['j'],\n",
       "  'lon': ['longitude'],\n",
       "  'lat': ['latitude'],\n",
       "  'lev': ['lev'],\n",
       "  'lev_bounds': ['lev_bounds'],\n",
       "  'lon_bounds': None,\n",
       "  'lat_bounds': None},\n",
       " 'EC-Earth3-Veg': {'x': ['i'],\n",
       "  'y': ['j'],\n",
       "  'lon': ['longitude'],\n",
       "  'lat': ['latitude'],\n",
       "  'lev': ['lev'],\n",
       "  'lev_bounds': ['lev_bounds'],\n",
       "  'lon_bounds': None,\n",
       "  'lat_bounds': None},\n",
       " 'EC-Earth3': {'x': ['i'],\n",
       "  'y': ['j'],\n",
       "  'lon': ['longitude'],\n",
       "  'lat': ['latitude'],\n",
       "  'lev': ['lev'],\n",
       "  'lev_bounds': ['lev_bounds'],\n",
       "  'lon_bounds': None,\n",
       "  'lat_bounds': None},\n",
       " 'MIROC-ES2L': {'x': ['x'],\n",
       "  'y': ['y'],\n",
       "  'lon': ['longitude'],\n",
       "  'lat': ['latitude'],\n",
       "  'lev': ['lev'],\n",
       "  'lev_bounds': ['lev_bounds'],\n",
       "  'lon_bounds': ['x_bnds'],\n",
       "  'lat_bounds': ['y_bnds']},\n",
       " 'MIROC6': {'x': ['x'],\n",
       "  'y': ['y'],\n",
       "  'lon': ['longitude'],\n",
       "  'lat': ['latitude'],\n",
       "  'lev': ['lev'],\n",
       "  'lev_bounds': ['lev_bounds'],\n",
       "  'lon_bounds': ['x_bnds'],\n",
       "  'lat_bounds': ['y_bnds']},\n",
       " 'HadGEM3-GC31-LL': {'x': ['i'],\n",
       "  'y': ['j'],\n",
       "  'lon': ['longitude'],\n",
       "  'lat': ['latitude'],\n",
       "  'lev': ['lev'],\n",
       "  'lev_bounds': ['lev_bounds'],\n",
       "  'lon_bounds': None,\n",
       "  'lat_bounds': None},\n",
       " 'UKESM1-0-LL': {'x': ['i'],\n",
       "  'y': ['j'],\n",
       "  'lon': ['longitude'],\n",
       "  'lat': ['latitude'],\n",
       "  'lev': ['lev'],\n",
       "  'lev_bounds': ['lev_bounds'],\n",
       "  'lon_bounds': None,\n",
       "  'lat_bounds': None},\n",
       " 'GISS-E2-1-G-CC': {'x': ['lon'],\n",
       "  'y': ['lat'],\n",
       "  'lon': None,\n",
       "  'lat': None,\n",
       "  'lev': ['lev'],\n",
       "  'lev_bounds': ['lev_bounds'],\n",
       "  'lon_bounds': ['lon_bnds'],\n",
       "  'lat_bounds': ['lat_bnds']},\n",
       " 'GISS-E2-1-G': {'x': ['lon'],\n",
       "  'y': ['lat'],\n",
       "  'lon': None,\n",
       "  'lat': None,\n",
       "  'lev': ['lev'],\n",
       "  'lev_bounds': ['lev_bounds'],\n",
       "  'lon_bounds': ['lon_bnds'],\n",
       "  'lat_bounds': ['lat_bnds']},\n",
       " 'CESM2-WACCM': {'x': ['nlon'],\n",
       "  'y': ['nlat'],\n",
       "  'lon': ['lon'],\n",
       "  'lat': ['lat'],\n",
       "  'lev': ['lev'],\n",
       "  'lev_bounds': ['lev_bounds'],\n",
       "  'lon_bounds': ['lon_bnds'],\n",
       "  'lat_bounds': ['lat_bnds']},\n",
       " 'CESM2': {'x': ['nlon'],\n",
       "  'y': ['nlat'],\n",
       "  'lon': ['lon'],\n",
       "  'lat': ['lat'],\n",
       "  'lev': ['lev'],\n",
       "  'lev_bounds': ['lev_bounds'],\n",
       "  'lon_bounds': ['lon_bnds'],\n",
       "  'lat_bounds': ['lat_bnds']},\n",
       " 'GFDL-CM4': {'x': ['x'],\n",
       "  'y': ['y'],\n",
       "  'lon': ['lon'],\n",
       "  'lat': ['lat'],\n",
       "  'lev': ['lev'],\n",
       "  'lev_bounds': ['lev_bounds'],\n",
       "  'lon_bounds': ['lon_bnds'],\n",
       "  'lat_bounds': ['lat_bnds']},\n",
       " 'GFDL-ESM4': {'x': ['x'],\n",
       "  'y': ['y'],\n",
       "  'lon': ['lon'],\n",
       "  'lat': ['lat'],\n",
       "  'lev': ['lev'],\n",
       "  'lev_bounds': ['lev_bounds'],\n",
       "  'lon_bounds': ['lon_bnds'],\n",
       "  'lat_bounds': ['lat_bnds']},\n",
       " 'NESM3': {'x': ['i'],\n",
       "  'y': ['j'],\n",
       "  'lon': ['longitude'],\n",
       "  'lat': ['latitude'],\n",
       "  'lev': ['lev'],\n",
       "  'lev_bounds': ['lev_bounds'],\n",
       "  'lon_bounds': None,\n",
       "  'lat_bounds': None},\n",
       " 'SAM0-UNICON': {'x': ['i'],\n",
       "  'y': ['j'],\n",
       "  'lon': ['longitude'],\n",
       "  'lat': ['latitude'],\n",
       "  'lev': ['lev'],\n",
       "  'lev_bounds': ['lev_bounds'],\n",
       "  'lon_bounds': None,\n",
       "  'lat_bounds': None},\n",
       " 'MCM-UA-1-0': {'x': ['longitude'],\n",
       "  'y': ['latitude'],\n",
       "  'lon': None,\n",
       "  'lat': None,\n",
       "  'lev': ['lev'],\n",
       "  'lev_bounds': ['lev_bounds'],\n",
       "  'lon_bounds': ['lon_bounds'],\n",
       "  'lat_bounds': ['lat_bounds']},\n",
       " 'IPSL-CM6A-LR': {'x': ['x'],\n",
       "  'y': ['y'],\n",
       "  'lon': ['nav_lon'],\n",
       "  'lat': ['nav_lat'],\n",
       "  'lev': ['lev', 'depth'],\n",
       "  'lev_bounds': ['lev_bounds'],\n",
       "  'lon_bounds': ['bounds_nav_lon'],\n",
       "  'lat_bounds': ['bounds_nav_lat'],\n",
       "  'vertex': ['nvertex']}}"
      ]
     },
     "execution_count": 10,
     "metadata": {},
     "output_type": "execute_result"
    },
    {
     "name": "stderr",
     "output_type": "stream",
     "text": [
      "distributed.client - ERROR - Failed to reconnect to scheduler after 10.00 seconds, closing client\n",
      "distributed.utils - ERROR - \n",
      "Traceback (most recent call last):\n",
      "  File \"/srv/conda/envs/notebook/lib/python3.7/site-packages/distributed/utils.py\", line 662, in log_errors\n",
      "    yield\n",
      "  File \"/srv/conda/envs/notebook/lib/python3.7/site-packages/distributed/client.py\", line 1284, in _close\n",
      "    await gen.with_timeout(timedelta(seconds=2), list(coroutines))\n",
      "concurrent.futures._base.CancelledError\n",
      "distributed.utils - ERROR - \n",
      "Traceback (most recent call last):\n",
      "  File \"/srv/conda/envs/notebook/lib/python3.7/site-packages/distributed/utils.py\", line 662, in log_errors\n",
      "    yield\n",
      "  File \"/srv/conda/envs/notebook/lib/python3.7/site-packages/distributed/client.py\", line 1013, in _reconnect\n",
      "    await self._close()\n",
      "  File \"/srv/conda/envs/notebook/lib/python3.7/site-packages/distributed/client.py\", line 1284, in _close\n",
      "    await gen.with_timeout(timedelta(seconds=2), list(coroutines))\n",
      "concurrent.futures._base.CancelledError\n"
     ]
    }
   ],
   "source": [
    "from cmip6_preprocessing.preprocessing import cmip6_renaming_dict\n",
    "a = cmip6_renaming_dict()\n",
    "a"
   ]
  },
  {
   "cell_type": "code",
   "execution_count": null,
   "metadata": {},
   "outputs": [],
   "source": [
    "from xhistogram.xarray import histogram\n",
    "import numpy as np\n",
    "def omz_volume(o2, vol, o2_bins, dim=['x', 'y', 'lev']):\n",
    "    nanmask = np.isnan(o2)\n",
    "    # Should we also check the bin data for nans?\n",
    "    \n",
    "    omz_vol = histogram(\n",
    "        o2.where(~nanmask),\n",
    "        bins=[o2_bins],\n",
    "        weights=vol.where(~nanmask),\n",
    "        dim=dim,\n",
    "    )\n",
    "    return omz_vol"
   ]
  },
  {
   "cell_type": "code",
   "execution_count": null,
   "metadata": {},
   "outputs": [],
   "source": [
    "o2_bins = np.arange(0,300, 20)\n",
    "ds_test = data_dict['CanESM5']\n",
    "omz = omz_volume(ds_test.o2*1e3, (ds_test.thkcello * ds_test.areacello), o2_bins)"
   ]
  },
  {
   "cell_type": "code",
   "execution_count": null,
   "metadata": {},
   "outputs": [],
   "source": [
    "# ocean volume in each oxygen bin\n",
    "omz.isel(time=0).plot()"
   ]
  },
  {
   "cell_type": "code",
   "execution_count": null,
   "metadata": {},
   "outputs": [],
   "source": [
    "# lets look at the full volume at e.g. 80 mymol/kg\n",
    "omz_80 = omz.cumsum('o2_bin').sel(o2_bin=80, method='nearest')\n",
    "omz_80.isel(time=0).load()"
   ]
  },
  {
   "cell_type": "code",
   "execution_count": 13,
   "metadata": {},
   "outputs": [
    {
     "data": {
      "text/plain": [
       "[<matplotlib.lines.Line2D at 0x7f73bd8ae4e0>]"
      ]
     },
     "execution_count": 13,
     "metadata": {},
     "output_type": "execute_result"
    },
    {
     "data": {
      "image/png": "[encoded data removed]",
      "text/plain": [
       "<Figure size 432x288 with 1 Axes>"
      ]
     },
     "metadata": {
      "needs_background": "light"
     },
     "output_type": "display_data"
    }
   ],
   "source": [
    "# the time evolution of the volume of < 80 mymols/kg waters\n",
    "omz_80.plot()"
   ]
  },
  {
   "cell_type": "code",
   "execution_count": 25,
   "metadata": {},
   "outputs": [
    {
     "data": {
      "text/plain": [
       "<xarray.Dataset>\n",
       "Dimensions:     (d2: 2, lev: 60, member_id: 1, time: 14400, vertices: 4, x: 320, x_left: 320, y: 384, y_left: 384)\n",
       "Coordinates:\n",
       "  * y           (y) int32 1 2 3 4 5 6 7 8 9 ... 377 378 379 380 381 382 383 384\n",
       "  * lev         (lev) float64 500.0 1.5e+03 2.5e+03 ... 5.125e+05 5.375e+05\n",
       "  * x           (x) int32 1 2 3 4 5 6 7 8 9 ... 313 314 315 316 317 318 319 320\n",
       "  * time        (time) object 0001-01-15 12:59:59 ... 1200-12-15 12:00:00\n",
       "  * member_id   (member_id) <U8 'r1i1p1f1'\n",
       "  * x_left      (x_left) float64 0.5 1.5 2.5 3.5 4.5 ... 316.5 317.5 318.5 319.5\n",
       "  * y_left      (y_left) float64 0.5 1.5 2.5 3.5 4.5 ... 380.5 381.5 382.5 383.5\n",
       "    dxe         (y, x_left) float64 2.35e+04 2.35e+04 ... 1.476e+04 1.479e+04\n",
       "    dyn         (y_left, x) float64 1.681e+07 1.681e+07 ... 5.027e+04 5.03e+04\n",
       "    dxt         (y, x) float64 2.35e+04 2.35e+04 ... 1.477e+04 1.479e+04\n",
       "    dxne        (y_left, x_left) float64 1.914e+04 1.914e+04 ... 1.56e+04\n",
       "    dxn         (y_left, x) float64 1.914e+04 1.913e+04 ... 1.559e+04 1.56e+04\n",
       "    dyt         (y, x) float64 8.435e+06 8.436e+06 ... 8.431e+06 8.431e+06\n",
       "    dyne        (y_left, x_left) float64 1.681e+07 1.681e+07 ... 5.028e+04\n",
       "    dye         (y, x_left) float64 8.435e+06 8.435e+06 ... 8.431e+06 8.431e+06\n",
       "    area_t      (y, x) float64 1.982e+11 1.982e+11 ... 1.246e+11 1.247e+11\n",
       "    area_e      (y, x_left) float64 1.982e+11 1.982e+11 ... 1.245e+11 1.246e+11\n",
       "    area_ne     (y_left, x_left) float64 3.218e+11 3.218e+11 ... 7.843e+08\n",
       "    area_n      (y_left, x) float64 3.218e+11 3.217e+11 ... 7.836e+08 7.847e+08\n",
       "Dimensions without coordinates: d2, vertices\n",
       "Data variables:\n",
       "    lat         (y, x) float64 -79.22 -79.22 -79.22 -79.22 ... 72.2 72.19 72.19\n",
       "    time_bnds   (time, d2) object dask.array<chunksize=(14400, 2), meta=np.ndarray>\n",
       "    lon_bounds  (y, x, vertices) float32 dask.array<chunksize=(384, 320, 4), meta=np.ndarray>\n",
       "    lev_bnds    (lev, d2) float32 dask.array<chunksize=(60, 2), meta=np.ndarray>\n",
       "    lat_bounds  (y, x, vertices) float32 dask.array<chunksize=(384, 320, 4), meta=np.ndarray>\n",
       "    lon         (y, x) float64 320.6 321.7 322.8 323.9 ... 318.9 319.4 319.8\n",
       "    thetao      (member_id, time, lev, y, x) float32 dask.array<chunksize=(1, 8, 60, 384, 320), meta=np.ndarray>\n",
       "    areacello   (member_id, y, x) float32 dask.array<chunksize=(1, 384, 320), meta=np.ndarray>\n",
       "    lat_ne      (y_left, x_left) float64 dask.array<chunksize=(384, 320), meta=np.ndarray>\n",
       "    lon_ne      (y_left, x_left) float64 dask.array<chunksize=(384, 320), meta=np.ndarray>\n",
       "    uo          (member_id, time, lev, y_left, x_left) float32 dask.array<chunksize=(1, 6, 60, 384, 320), meta=np.ndarray>\n",
       "    vo          (member_id, time, lev, y_left, x_left) float32 dask.array<chunksize=(1, 6, 60, 384, 320), meta=np.ndarray>\n",
       "    volcello    (member_id, lev, y, x) float32 dask.array<chunksize=(1, 60, 384, 320), meta=np.ndarray>\n",
       "Attributes:\n",
       "    Conventions:            CF-1.7 CMIP-6.2\n",
       "    activity_id:            CMIP\n",
       "    branch_method:          standard\n",
       "    branch_time_in_child:   0.0\n",
       "    branch_time_in_parent:  48545.0\n",
       "    case_id:                3\n",
       "    cesm_casename:          b.e21.B1850.f09_g17.CMIP6-piControl.001\n",
       "    contact:                cesm_cmip6@ucar.edu\n",
       "    creation_date:          2019-01-20T21:46:07Z\n",
       "    data_specs_version:     01.00.29\n",
       "    experiment:             pre-industrial control\n",
       "    experiment_id:          piControl\n",
       "    external_variables:     areacello volcello\n",
       "    forcing_index:          1\n",
       "    frequency:              mon\n",
       "    further_info_url:       https://furtherinfo.es-doc.org/CMIP6.NCAR.CESM2.p...\n",
       "    grid:                   native gx1v7 displaced pole grid (384x320 latxlon)\n",
       "    grid_label:             gn\n",
       "    initialization_index:   1\n",
       "    institution:            National Center for Atmospheric Research, Climate...\n",
       "    institution_id:         NCAR\n",
       "    license:                CMIP6 model data produced by <The National Center...\n",
       "    mip_era:                CMIP6\n",
       "    model_doi_url:          https://doi.org/10.5065/D67H1H0V\n",
       "    nominal_resolution:     100 km\n",
       "    parent_activity_id:     CMIP\n",
       "    parent_experiment_id:   piControl-spinup\n",
       "    parent_mip_era:         CMIP6\n",
       "    parent_source_id:       CESM2\n",
       "    parent_time_units:      days since 0001-01-01 00:00:00\n",
       "    parent_variant_label:   r1i1p1f1\n",
       "    physics_index:          1\n",
       "    product:                model-output\n",
       "    realization_index:      1\n",
       "    realm:                  ocean\n",
       "    source:                 CESM2 (2017): atmosphere: CAM6 (0.9x1.25 finite v...\n",
       "    source_id:              CESM2\n",
       "    source_type:            AOGCM BGC AER\n",
       "    sub_experiment:         none\n",
       "    sub_experiment_id:      none\n",
       "    table_id:               Omon\n",
       "    tracking_id:            hdl:21.14100/e001c068-dbf3-4f1d-908f-04cb51926095...\n",
       "    variable_id:            thetao\n",
       "    variant_info:           CMIP6 CESM2 piControl experiment with CAM6, inter...\n",
       "    variant_label:          r1i1p1f1"
      ]
     },
     "execution_count": 25,
     "metadata": {},
     "output_type": "execute_result"
    }
   ],
   "source": [
    "ds_test = data_dict['CESM2']\n",
    "ds_test"
   ]
  },
  {
   "cell_type": "code",
   "execution_count": 12,
   "metadata": {},
   "outputs": [],
   "source": [
    "ds_test = data_dict['MCM-UA-1-0']"
   ]
  },
  {
   "cell_type": "code",
   "execution_count": 17,
   "metadata": {},
   "outputs": [
    {
     "name": "stdout",
     "output_type": "stream",
     "text": [
      "<xarray.Dataset>\n",
      "Dimensions:    (bnds: 2, lev: 18, lev_left: 18, member_id: 1, time: 6000, x: 192, x_right: 192, y: 80, y_right: 80)\n",
      "Coordinates:\n",
      "  * lev        (lev) float64 20.0 61.71 107.8 ... 3.373e+03 3.999e+03 4.662e+03\n",
      "  * x          (x) float64 -0.9375 0.9375 2.812 4.688 ... 353.4 355.3 357.2\n",
      "  * y          (y) float64 -88.63 -86.13 -83.88 -81.63 ... 83.88 86.13 88.63\n",
      "  * bnds       (bnds) float64 1.0 2.0\n",
      "  * time       (time) object 0001-01-17 00:00:00 ... 0500-12-17 00:00:00\n",
      "  * member_id  (member_id) <U8 'r1i1p1f1'\n",
      "    lon        (x, y) float64 -0.9375 -0.9375 -0.9375 ... 357.2 357.2 357.2\n",
      "    lat        (x, y) float64 -88.63 -86.13 -83.88 -81.63 ... 83.88 86.13 88.63\n",
      "  * x_right    (x_right) float64 0.0 1.875 3.75 5.625 ... 354.4 356.2 358.1\n",
      "  * y_right    (y_right) float64 -87.38 -85.0 -82.75 -80.51 ... 85.0 87.38 89.88\n",
      "    lon_ne     (x_right, y_right) float64 0.0 0.0 0.0 0.0 ... 358.1 358.1 358.1\n",
      "    lat_ne     (x_right, y_right) float64 -87.26 -85.0 -82.75 ... 87.26 90.0\n",
      "    dxe        (x_right, y) float64 5.011e+03 1.414e+04 ... 1.414e+04 5.011e+03\n",
      "    dyn        (x, y_right) float64 2.793e+05 2.516e+05 ... 2.793e+05 1.97e+07\n",
      "    dxt        (x, y) float64 5.011e+03 1.414e+04 ... 1.414e+04 5.011e+03\n",
      "    dxne       (x_right, y_right) float64 9.576e+03 1.824e+04 ... 5.011e+03\n",
      "    dxn        (x, y_right) float64 9.576e+03 1.824e+04 ... 9.576e+03 5.011e+03\n",
      "    dyt        (x, y) float64 9.989e+06 2.655e+05 ... 2.655e+05 9.989e+06\n",
      "    dyne       (x_right, y_right) float64 2.793e+05 2.516e+05 ... 1.97e+07\n",
      "    dye        (x_right, y) float64 9.989e+06 2.655e+05 ... 2.655e+05 9.989e+06\n",
      "    area_t     (member_id, y, x) float32 dask.array<chunksize=(1, 80, 192), meta=np.ndarray>\n",
      "    area_e     (x_right, y) float64 5.005e+10 3.754e+09 ... 3.754e+09 5.005e+10\n",
      "    area_ne    (x_right, y_right) float64 2.675e+09 4.589e+09 ... 9.87e+10\n",
      "    area_n     (x, y_right) float64 2.675e+09 4.589e+09 ... 2.675e+09 9.87e+10\n",
      "  * lev_left   (lev_left) float64 20.0 40.86 84.77 ... 3.686e+03 4.33e+03\n",
      "Data variables:\n",
      "    lat_bnds   (y, bnds) float64 dask.array<chunksize=(80, 2), meta=np.ndarray>\n",
      "    lev_bnds   (lev, bnds) float64 dask.array<chunksize=(18, 2), meta=np.ndarray>\n",
      "    time_bnds  (time, bnds) object dask.array<chunksize=(6000, 2), meta=np.ndarray>\n",
      "    lon_bnds   (x, bnds) float64 dask.array<chunksize=(192, 2), meta=np.ndarray>\n",
      "    thetao     (member_id, time, lev, y, x) float32 dask.array<chunksize=(1, 90, 18, 80, 192), meta=np.ndarray>\n",
      "    areacello  (member_id, y, x) float32 dask.array<chunksize=(1, 80, 192), meta=np.ndarray>\n",
      "    uo         (member_id, time, lev, y_right, x_right) float32 dask.array<chunksize=(1, 90, 18, 80, 192), meta=np.ndarray>\n",
      "    vo         (member_id, time, lev, y_right, x_right) float32 dask.array<chunksize=(1, 90, 18, 80, 192), meta=np.ndarray>\n",
      "    thkcello   (member_id, lev, y, x) float32 dask.array<chunksize=(1, 18, 80, 192), meta=np.ndarray>\n",
      "Attributes:\n",
      "    Conventions:            CF-1.7 CMIP-6.2 \n",
      "    activity_id:            CMIP\n",
      "    branch_method:          standard\n",
      "    branch_time_in_child:   1533000.0\n",
      "    branch_time_in_parent:  0.0\n",
      "    comment:                Blank                                 \n",
      "    contact:                GEOS-CMIP@email.arizona.edu           \n",
      "    creation_date:          2019-08-14T00:00:00Z\n",
      "    data_specs_version:     01.00.28\n",
      "    experiment:             pre-industrial control                           ...\n",
      "    experiment_id:          piControl\n",
      "    external_variables:     areacello volcello\n",
      "    forcing_index:          1\n",
      "    frequency:              mon\n",
      "    further_info_url:       https://furtherinfo.es-doc.org/CMIP6.UA.MCM-UA-1-...\n",
      "    grid:                   lat-lon\n",
      "    grid_label:             gn\n",
      "    history:                File was produced by a FORTRAN program\n",
      "    initialization_index:   0\n",
      "    institution:            Department of Geosciences, University of Arizona,...\n",
      "    institution_id:         UA\n",
      "    license:                CMIP6 model data produced by the U of Arizona is ...\n",
      "    mip_era:                CMIP6\n",
      "    nominal_resolution:     250 km\n",
      "    parent_activity_id:     CMIP\n",
      "    parent_experiment_id:   piControl-spinup\n",
      "    parent_source_id:       MCM-UA-1-0\n",
      "    parent_time_units:      days since 0001-01-01 (noleap)\n",
      "    parent_variant_label:   r1i1p1f1\n",
      "    physics_index:          0\n",
      "    product:                model-output\n",
      "    realization_index:      0\n",
      "    realm:                  ocean\n",
      "    references:             Delworth, Thomas L., Ronald J Stouffer, Keith W D...\n",
      "    source:                 Manabe Climate Model at U of Arizona             ...\n",
      "    source_id:              MCM-UA-1-0\n",
      "    source_type:            AOGCM\n",
      "    sub_experiment:         none\n",
      "    sub_experiment_id:      none\n",
      "    table_id:               Omon\n",
      "    title:                  UArizona MCM-UA-1-0 piControl           \n",
      "    tracking_id:            hdl:21.14100/4de56267-3d3d-49b4-a99d-718803636ea9...\n",
      "    variable_id:            thetao\n",
      "    variant_info:           1850 equiv CO2 and aerosol forcing    \n",
      "    variant_label:          r1i1p1f1\n"
     ]
    },
    {
     "ename": "NameError",
     "evalue": "name 'ds' is not defined",
     "output_type": "error",
     "traceback": [
      "\u001b[0;31m---------------------------------------------------------------------------\u001b[0m",
      "\u001b[0;31mNameError\u001b[0m                                 Traceback (most recent call last)",
      "\u001b[0;32m<ipython-input-17-edd797f6b6f3>\u001b[0m in \u001b[0;36m<module>\u001b[0;34m\u001b[0m\n\u001b[1;32m      4\u001b[0m \u001b[0mds_full\u001b[0m \u001b[0;34m=\u001b[0m \u001b[0mgenerate_grid_ds\u001b[0m\u001b[0;34m(\u001b[0m\u001b[0mds_test\u001b[0m\u001b[0;34m,\u001b[0m \u001b[0;34m{\u001b[0m\u001b[0;34m'Z'\u001b[0m\u001b[0;34m:\u001b[0m\u001b[0;34m'lev'\u001b[0m\u001b[0;34m}\u001b[0m\u001b[0;34m,\u001b[0m \u001b[0mpad\u001b[0m\u001b[0;34m=\u001b[0m\u001b[0mds_test\u001b[0m\u001b[0;34m.\u001b[0m\u001b[0mlev\u001b[0m\u001b[0;34m[\u001b[0m\u001b[0;36m0\u001b[0m\u001b[0;34m]\u001b[0m\u001b[0;34m)\u001b[0m\u001b[0;34m\u001b[0m\u001b[0;34m\u001b[0m\u001b[0m\n\u001b[1;32m      5\u001b[0m \u001b[0mprint\u001b[0m\u001b[0;34m(\u001b[0m\u001b[0mds_full\u001b[0m\u001b[0;34m)\u001b[0m\u001b[0;34m\u001b[0m\u001b[0;34m\u001b[0m\u001b[0m\n\u001b[0;32m----> 6\u001b[0;31m \u001b[0mprint\u001b[0m\u001b[0;34m(\u001b[0m\u001b[0mds\u001b[0m\u001b[0;34m.\u001b[0m\u001b[0mdepth\u001b[0m\u001b[0;34m.\u001b[0m\u001b[0mdata\u001b[0m\u001b[0;34m)\u001b[0m\u001b[0;34m\u001b[0m\u001b[0;34m\u001b[0m\u001b[0m\n\u001b[0m\u001b[1;32m      7\u001b[0m \u001b[0mprint\u001b[0m\u001b[0;34m(\u001b[0m\u001b[0mds_full\u001b[0m\u001b[0;34m.\u001b[0m\u001b[0mdepth_left\u001b[0m\u001b[0;34m.\u001b[0m\u001b[0mdata\u001b[0m\u001b[0;34m)\u001b[0m\u001b[0;34m\u001b[0m\u001b[0;34m\u001b[0m\u001b[0m\n",
      "\u001b[0;31mNameError\u001b[0m: name 'ds' is not defined"
     ]
    }
   ],
   "source": [
    "# ok lets recreate the vertical spacing\n",
    "from xgcm.autogenerate import generate_grid_ds\n",
    "# Generate 'full' dataset, which includes additional coordinate `depth_left` and appropriate attributes.\n",
    "ds_full = generate_grid_ds(ds_test, {'Z':'lev'}, pad=)\n",
    "print(ds_full)\n",
    "print(ds.depth.data)\n",
    "print(ds_full.depth_left.data)"
   ]
  },
  {
   "cell_type": "code",
   "execution_count": 13,
   "metadata": {},
   "outputs": [],
   "source": [
    "# Here I am trying to generalize the metrics. I am doing two things:\n",
    "# 1) replace the reconstructed metrics with the `real` ones if they are loaded.\n",
    "# 2) parse all the metrics that are found in the dataset\n",
    "def standardized_metrics(ds):\n",
    "    metrics = {\n",
    "        ('X', 'Y'):['area_t', 'area_ne', 'area_n', 'area_e'],\n",
    "        ('X',):['dxt', 'dxne', 'dxn', 'dxe'],\n",
    "        ('Y',):['dyt', 'dyne', 'dyn', 'dye'],\n",
    "        ('Z',):['dzt']\n",
    "    }\n",
    "    # parse the `real` variables over the reconstructed...\n",
    "    for new, old in zip(['areacello', 'thkcello'], ['area_t', 'dzt']):\n",
    "        if new in ds.variables:\n",
    "            ds.coords[old] = ds[new]\n",
    "            ds = ds.drop(new)\n",
    "        \n",
    "    # Remove metrics that are not present in dataset\n",
    "    metrics = {k:[m for m in met if m in ds.variables] for k,met in metrics.items()}\n",
    "    return ds, metrics"
   ]
  },
  {
   "cell_type": "code",
   "execution_count": 9,
   "metadata": {},
   "outputs": [],
   "source": [
    "from xgcm import Grid"
   ]
  },
  {
   "cell_type": "code",
   "execution_count": 10,
   "metadata": {},
   "outputs": [],
   "source": [
    "grids = {k: Grid(*standardized_metrics(ds)) for k,ds in data_dict.items()}"
   ]
  },
  {
   "cell_type": "code",
   "execution_count": null,
   "metadata": {},
   "outputs": [],
   "source": [
    "!!! z axis needs a reconstruction"
   ]
  },
  {
   "cell_type": "code",
   "execution_count": 20,
   "metadata": {},
   "outputs": [
    {
     "data": {
      "text/plain": [
       "<xgcm.Grid>\n",
       "X Axis (periodic):\n",
       "  * center   x --> right\n",
       "  * right    x_right --> center\n",
       "T Axis (periodic):\n",
       "  * center   time\n",
       "Z Axis (periodic):\n",
       "  * center   lev\n",
       "Y Axis (periodic):\n",
       "  * center   y --> right\n",
       "  * right    y_right --> center"
      ]
     },
     "execution_count": 20,
     "metadata": {},
     "output_type": "execute_result"
    }
   ],
   "source": [
    "ds_test = data_dict['MCM-UA-1-0']\n",
    "ds_test, metrics = standardized_metrics(ds_test)\n",
    "grid = Grid(ds_test, metrics=metrics)\n",
    "grid"
   ]
  },
  {
   "cell_type": "code",
   "execution_count": 27,
   "metadata": {},
   "outputs": [],
   "source": [
    "def hor_streamfunction(u,grid):\n",
    "    u_int = grid.integrate(u, 'Z')\n",
    "    print(u_int)\n",
    "    "
   ]
  },
  {
   "cell_type": "code",
   "execution_count": 28,
   "metadata": {},
   "outputs": [
    {
     "ename": "KeyError",
     "evalue": "\"Unable to find any combinations of metrics for array dims {'member_id', 'x_right', 'y_right', 'lev', 'time'} and axes 'Z'\"",
     "output_type": "error",
     "traceback": [
      "\u001b[0;31m---------------------------------------------------------------------------\u001b[0m",
      "\u001b[0;31mKeyError\u001b[0m                                  Traceback (most recent call last)",
      "\u001b[0;32m<ipython-input-28-922eef77a6fd>\u001b[0m in \u001b[0;36m<module>\u001b[0;34m\u001b[0m\n\u001b[0;32m----> 1\u001b[0;31m \u001b[0mhor_streamfunction\u001b[0m\u001b[0;34m(\u001b[0m\u001b[0mds_test\u001b[0m\u001b[0;34m.\u001b[0m\u001b[0muo\u001b[0m\u001b[0;34m,\u001b[0m \u001b[0mgrid\u001b[0m\u001b[0;34m)\u001b[0m\u001b[0;34m\u001b[0m\u001b[0;34m\u001b[0m\u001b[0m\n\u001b[0m",
      "\u001b[0;32m<ipython-input-27-ef84da4ee9f8>\u001b[0m in \u001b[0;36mhor_streamfunction\u001b[0;34m(u, grid)\u001b[0m\n\u001b[1;32m      1\u001b[0m \u001b[0;32mdef\u001b[0m \u001b[0mhor_streamfunction\u001b[0m\u001b[0;34m(\u001b[0m\u001b[0mu\u001b[0m\u001b[0;34m,\u001b[0m\u001b[0mgrid\u001b[0m\u001b[0;34m)\u001b[0m\u001b[0;34m:\u001b[0m\u001b[0;34m\u001b[0m\u001b[0;34m\u001b[0m\u001b[0m\n\u001b[0;32m----> 2\u001b[0;31m     \u001b[0mu_int\u001b[0m \u001b[0;34m=\u001b[0m \u001b[0mgrid\u001b[0m\u001b[0;34m.\u001b[0m\u001b[0mintegrate\u001b[0m\u001b[0;34m(\u001b[0m\u001b[0mu\u001b[0m\u001b[0;34m,\u001b[0m \u001b[0;34m'Z'\u001b[0m\u001b[0;34m)\u001b[0m\u001b[0;34m\u001b[0m\u001b[0;34m\u001b[0m\u001b[0m\n\u001b[0m\u001b[1;32m      3\u001b[0m     \u001b[0mprint\u001b[0m\u001b[0;34m(\u001b[0m\u001b[0mu_int\u001b[0m\u001b[0;34m)\u001b[0m\u001b[0;34m\u001b[0m\u001b[0;34m\u001b[0m\u001b[0m\n\u001b[1;32m      4\u001b[0m \u001b[0;34m\u001b[0m\u001b[0m\n",
      "\u001b[0;32m/srv/conda/envs/notebook/lib/python3.7/site-packages/xgcm/grid.py\u001b[0m in \u001b[0;36mintegrate\u001b[0;34m(self, da, axis, **kwargs)\u001b[0m\n\u001b[1;32m   1194\u001b[0m         \"\"\"\n\u001b[1;32m   1195\u001b[0m \u001b[0;34m\u001b[0m\u001b[0m\n\u001b[0;32m-> 1196\u001b[0;31m         \u001b[0mweight\u001b[0m \u001b[0;34m=\u001b[0m \u001b[0mself\u001b[0m\u001b[0;34m.\u001b[0m\u001b[0mget_metric\u001b[0m\u001b[0;34m(\u001b[0m\u001b[0mda\u001b[0m\u001b[0;34m,\u001b[0m \u001b[0maxis\u001b[0m\u001b[0;34m)\u001b[0m\u001b[0;34m\u001b[0m\u001b[0;34m\u001b[0m\u001b[0m\n\u001b[0m\u001b[1;32m   1197\u001b[0m         \u001b[0mweighted\u001b[0m \u001b[0;34m=\u001b[0m \u001b[0mda\u001b[0m \u001b[0;34m*\u001b[0m \u001b[0mweight\u001b[0m\u001b[0;34m\u001b[0m\u001b[0;34m\u001b[0m\u001b[0m\n\u001b[1;32m   1198\u001b[0m         \u001b[0;31m# TODO: We should integrate xarray.weighted once available.\u001b[0m\u001b[0;34m\u001b[0m\u001b[0;34m\u001b[0m\u001b[0;34m\u001b[0m\u001b[0m\n",
      "\u001b[0;32m/srv/conda/envs/notebook/lib/python3.7/site-packages/xgcm/grid.py\u001b[0m in \u001b[0;36mget_metric\u001b[0;34m(self, array, axes)\u001b[0m\n\u001b[1;32m   1015\u001b[0m             raise KeyError(\n\u001b[1;32m   1016\u001b[0m                 \u001b[0;34m\"Unable to find any combinations of metrics for \"\u001b[0m\u001b[0;34m\u001b[0m\u001b[0;34m\u001b[0m\u001b[0m\n\u001b[0;32m-> 1017\u001b[0;31m                 \u001b[0;34m\"array dims %r and axes %r\"\u001b[0m \u001b[0;34m%\u001b[0m \u001b[0;34m(\u001b[0m\u001b[0marray_dims\u001b[0m\u001b[0;34m,\u001b[0m \u001b[0maxes\u001b[0m\u001b[0;34m)\u001b[0m\u001b[0;34m\u001b[0m\u001b[0;34m\u001b[0m\u001b[0m\n\u001b[0m\u001b[1;32m   1018\u001b[0m             )\n\u001b[1;32m   1019\u001b[0m \u001b[0;34m\u001b[0m\u001b[0m\n",
      "\u001b[0;31mKeyError\u001b[0m: \"Unable to find any combinations of metrics for array dims {'member_id', 'x_right', 'y_right', 'lev', 'time'} and axes 'Z'\""
     ]
    }
   ],
   "source": [
    "hor_streamfunction(ds_test.uo, grid)"
   ]
  },
  {
   "cell_type": "code",
   "execution_count": 9,
   "metadata": {},
   "outputs": [],
   "source": [
    "import gsw\n",
    "def heat_capacity():\n",
    "    # for now return constant value. Should be replaced with gsw routine?\n",
    "    return 3850.0"
   ]
  },
  {
   "cell_type": "code",
   "execution_count": 21,
   "metadata": {},
   "outputs": [
    {
     "ename": "ImportError",
     "evalue": "Plotting of arrays of cftime.datetime objects or arrays indexed by cftime.datetime objects requires the optional `nc-time-axis` (v1.2.0 or later) package.",
     "output_type": "error",
     "traceback": [
      "\u001b[0;31m---------------------------------------------------------------------------\u001b[0m",
      "\u001b[0;31mImportError\u001b[0m                               Traceback (most recent call last)",
      "\u001b[0;32m<ipython-input-21-b86b673d0c1d>\u001b[0m in \u001b[0;36m<module>\u001b[0;34m\u001b[0m\n\u001b[1;32m      1\u001b[0m \u001b[0mrho_ref\u001b[0m \u001b[0;34m=\u001b[0m \u001b[0;36m1035\u001b[0m\u001b[0;34m\u001b[0m\u001b[0;34m\u001b[0m\u001b[0m\n\u001b[1;32m      2\u001b[0m \u001b[0mcp\u001b[0m \u001b[0;34m=\u001b[0m \u001b[0mheat_capacity\u001b[0m\u001b[0;34m(\u001b[0m\u001b[0;34m)\u001b[0m\u001b[0;34m\u001b[0m\u001b[0;34m\u001b[0m\u001b[0m\n\u001b[0;32m----> 3\u001b[0;31m \u001b[0mgrid\u001b[0m\u001b[0;34m.\u001b[0m\u001b[0mintegrate\u001b[0m\u001b[0;34m(\u001b[0m\u001b[0mds_test\u001b[0m\u001b[0;34m.\u001b[0m\u001b[0mthetao\u001b[0m \u001b[0;34m*\u001b[0m \u001b[0mcp\u001b[0m \u001b[0;34m*\u001b[0m \u001b[0mrho_ref\u001b[0m\u001b[0;34m,\u001b[0m \u001b[0;34m[\u001b[0m\u001b[0;34m'X'\u001b[0m\u001b[0;34m,\u001b[0m \u001b[0;34m'Y'\u001b[0m\u001b[0;34m,\u001b[0m \u001b[0;34m'Z'\u001b[0m\u001b[0;34m]\u001b[0m\u001b[0;34m)\u001b[0m\u001b[0;34m.\u001b[0m\u001b[0msqueeze\u001b[0m\u001b[0;34m(\u001b[0m\u001b[0;34m)\u001b[0m\u001b[0;34m.\u001b[0m\u001b[0mplot\u001b[0m\u001b[0;34m(\u001b[0m\u001b[0;34m)\u001b[0m\u001b[0;34m\u001b[0m\u001b[0;34m\u001b[0m\u001b[0m\n\u001b[0m",
      "\u001b[0;32m/srv/conda/envs/notebook/lib/python3.7/site-packages/xarray/plot/plot.py\u001b[0m in \u001b[0;36m__call__\u001b[0;34m(self, **kwargs)\u001b[0m\n\u001b[1;32m    463\u001b[0m \u001b[0;34m\u001b[0m\u001b[0m\n\u001b[1;32m    464\u001b[0m     \u001b[0;32mdef\u001b[0m \u001b[0m__call__\u001b[0m\u001b[0;34m(\u001b[0m\u001b[0mself\u001b[0m\u001b[0;34m,\u001b[0m \u001b[0;34m**\u001b[0m\u001b[0mkwargs\u001b[0m\u001b[0;34m)\u001b[0m\u001b[0;34m:\u001b[0m\u001b[0;34m\u001b[0m\u001b[0;34m\u001b[0m\u001b[0m\n\u001b[0;32m--> 465\u001b[0;31m         \u001b[0;32mreturn\u001b[0m \u001b[0mplot\u001b[0m\u001b[0;34m(\u001b[0m\u001b[0mself\u001b[0m\u001b[0;34m.\u001b[0m\u001b[0m_da\u001b[0m\u001b[0;34m,\u001b[0m \u001b[0;34m**\u001b[0m\u001b[0mkwargs\u001b[0m\u001b[0;34m)\u001b[0m\u001b[0;34m\u001b[0m\u001b[0;34m\u001b[0m\u001b[0m\n\u001b[0m\u001b[1;32m    466\u001b[0m \u001b[0;34m\u001b[0m\u001b[0m\n\u001b[1;32m    467\u001b[0m     \u001b[0;34m@\u001b[0m\u001b[0mfunctools\u001b[0m\u001b[0;34m.\u001b[0m\u001b[0mwraps\u001b[0m\u001b[0;34m(\u001b[0m\u001b[0mhist\u001b[0m\u001b[0;34m)\u001b[0m\u001b[0;34m\u001b[0m\u001b[0;34m\u001b[0m\u001b[0m\n",
      "\u001b[0;32m/srv/conda/envs/notebook/lib/python3.7/site-packages/xarray/plot/plot.py\u001b[0m in \u001b[0;36mplot\u001b[0;34m(darray, row, col, col_wrap, ax, hue, rtol, subplot_kws, **kwargs)\u001b[0m\n\u001b[1;32m    200\u001b[0m     \u001b[0mkwargs\u001b[0m\u001b[0;34m[\u001b[0m\u001b[0;34m\"ax\"\u001b[0m\u001b[0;34m]\u001b[0m \u001b[0;34m=\u001b[0m \u001b[0max\u001b[0m\u001b[0;34m\u001b[0m\u001b[0;34m\u001b[0m\u001b[0m\n\u001b[1;32m    201\u001b[0m \u001b[0;34m\u001b[0m\u001b[0m\n\u001b[0;32m--> 202\u001b[0;31m     \u001b[0;32mreturn\u001b[0m \u001b[0mplotfunc\u001b[0m\u001b[0;34m(\u001b[0m\u001b[0mdarray\u001b[0m\u001b[0;34m,\u001b[0m \u001b[0;34m**\u001b[0m\u001b[0mkwargs\u001b[0m\u001b[0;34m)\u001b[0m\u001b[0;34m\u001b[0m\u001b[0;34m\u001b[0m\u001b[0m\n\u001b[0m\u001b[1;32m    203\u001b[0m \u001b[0;34m\u001b[0m\u001b[0m\n\u001b[1;32m    204\u001b[0m \u001b[0;34m\u001b[0m\u001b[0m\n",
      "\u001b[0;32m/srv/conda/envs/notebook/lib/python3.7/site-packages/xarray/plot/plot.py\u001b[0m in \u001b[0;36mline\u001b[0;34m(darray, row, col, figsize, aspect, size, ax, hue, x, y, xincrease, yincrease, xscale, yscale, xticks, yticks, xlim, ylim, add_legend, _labels, *args, **kwargs)\u001b[0m\n\u001b[1;32m    321\u001b[0m         \u001b[0myplt_val\u001b[0m \u001b[0;34m=\u001b[0m \u001b[0myplt\u001b[0m\u001b[0;34m.\u001b[0m\u001b[0mvalues\u001b[0m\u001b[0;34m\u001b[0m\u001b[0;34m\u001b[0m\u001b[0m\n\u001b[1;32m    322\u001b[0m \u001b[0;34m\u001b[0m\u001b[0m\n\u001b[0;32m--> 323\u001b[0;31m     \u001b[0m_ensure_plottable\u001b[0m\u001b[0;34m(\u001b[0m\u001b[0mxplt_val\u001b[0m\u001b[0;34m,\u001b[0m \u001b[0myplt_val\u001b[0m\u001b[0;34m)\u001b[0m\u001b[0;34m\u001b[0m\u001b[0;34m\u001b[0m\u001b[0m\n\u001b[0m\u001b[1;32m    324\u001b[0m \u001b[0;34m\u001b[0m\u001b[0m\n\u001b[1;32m    325\u001b[0m     \u001b[0mprimitive\u001b[0m \u001b[0;34m=\u001b[0m \u001b[0max\u001b[0m\u001b[0;34m.\u001b[0m\u001b[0mplot\u001b[0m\u001b[0;34m(\u001b[0m\u001b[0mxplt_val\u001b[0m\u001b[0;34m,\u001b[0m \u001b[0myplt_val\u001b[0m\u001b[0;34m,\u001b[0m \u001b[0;34m*\u001b[0m\u001b[0margs\u001b[0m\u001b[0;34m,\u001b[0m \u001b[0;34m**\u001b[0m\u001b[0mkwargs\u001b[0m\u001b[0;34m)\u001b[0m\u001b[0;34m\u001b[0m\u001b[0;34m\u001b[0m\u001b[0m\n",
      "\u001b[0;32m/srv/conda/envs/notebook/lib/python3.7/site-packages/xarray/plot/utils.py\u001b[0m in \u001b[0;36m_ensure_plottable\u001b[0;34m(*args)\u001b[0m\n\u001b[1;32m    520\u001b[0m         ):\n\u001b[1;32m    521\u001b[0m             raise ImportError(\n\u001b[0;32m--> 522\u001b[0;31m                 \u001b[0;34m\"Plotting of arrays of cftime.datetime \"\u001b[0m\u001b[0;34m\u001b[0m\u001b[0;34m\u001b[0m\u001b[0m\n\u001b[0m\u001b[1;32m    523\u001b[0m                 \u001b[0;34m\"objects or arrays indexed by \"\u001b[0m\u001b[0;34m\u001b[0m\u001b[0;34m\u001b[0m\u001b[0m\n\u001b[1;32m    524\u001b[0m                 \u001b[0;34m\"cftime.datetime objects requires the \"\u001b[0m\u001b[0;34m\u001b[0m\u001b[0;34m\u001b[0m\u001b[0m\n",
      "\u001b[0;31mImportError\u001b[0m: Plotting of arrays of cftime.datetime objects or arrays indexed by cftime.datetime objects requires the optional `nc-time-axis` (v1.2.0 or later) package."
     ]
    },
    {
     "data": {
      "image/png": "[encoded data removed]",
      "text/plain": [
       "<Figure size 432x288 with 1 Axes>"
      ]
     },
     "metadata": {
      "needs_background": "light"
     },
     "output_type": "display_data"
    }
   ],
   "source": [
    "rho_ref = 1035\n",
    "cp = heat_capacity()\n",
    "grid.integrate(ds_test.thetao * cp * rho_ref, ['X', 'Y', 'Z']).squeeze().plot()"
   ]
  },
  {
   "cell_type": "code",
   "execution_count": 103,
   "metadata": {},
   "outputs": [],
   "source": [
    "def moc(v, grid):\n",
    "    v = v.copy()\n",
    "    v_int = grid.integrate(v, 'X')\n",
    "    # we need to conserve the coords!\n",
    "    x_dim = grid._get_dims_from_axis(v,'X')[0]\n",
    "#     temp = v[{x_dim:1}]\n",
    "# #     for co in temp.coords:\n",
    "# #         v_int.coords[co] = temp[co]\n",
    "    print(v_int)\n",
    "    moc = grid.cumsum(v_int*v_int.dyne, 'Y')\n",
    "    return moc"
   ]
  },
  {
   "cell_type": "code",
   "execution_count": 104,
   "metadata": {},
   "outputs": [
    {
     "name": "stdout",
     "output_type": "stream",
     "text": [
      "<xarray.DataArray (member_id: 1, time: 6000, lev: 18, y_right: 80)>\n",
      "dask.array<sum-aggregate, shape=(1, 6000, 18, 80), dtype=float64, chunksize=(1, 90, 18, 80), chunktype=numpy.ndarray>\n",
      "Coordinates:\n",
      "  * lev        (lev) float64 20.0 61.71 107.8 ... 3.373e+03 3.999e+03 4.662e+03\n",
      "  * time       (time) int64 0 708 1416 2148 ... 4377060 4377792 4378524 4379256\n",
      "  * member_id  (member_id) <U8 'r1i1p1f1'\n",
      "  * y_right    (y_right) float64 -87.38 -85.0 -82.75 -80.51 ... 85.0 87.38 89.88\n"
     ]
    },
    {
     "ename": "AttributeError",
     "evalue": "'DataArray' object has no attribute 'dyne'",
     "output_type": "error",
     "traceback": [
      "\u001b[0;31m---------------------------------------------------------------------------\u001b[0m",
      "\u001b[0;31mAttributeError\u001b[0m                            Traceback (most recent call last)",
      "\u001b[0;32m<ipython-input-104-37476b49a2fd>\u001b[0m in \u001b[0;36m<module>\u001b[0;34m\u001b[0m\n\u001b[0;32m----> 1\u001b[0;31m \u001b[0mstreamf\u001b[0m \u001b[0;34m=\u001b[0m \u001b[0mmoc\u001b[0m\u001b[0;34m(\u001b[0m\u001b[0mds_test\u001b[0m\u001b[0;34m.\u001b[0m\u001b[0mvo\u001b[0m\u001b[0;34m,\u001b[0m \u001b[0mgrid\u001b[0m\u001b[0;34m)\u001b[0m\u001b[0;34m\u001b[0m\u001b[0;34m\u001b[0m\u001b[0m\n\u001b[0m",
      "\u001b[0;32m<ipython-input-103-309e874db13e>\u001b[0m in \u001b[0;36mmoc\u001b[0;34m(v, grid)\u001b[0m\n\u001b[1;32m      8\u001b[0m \u001b[0;31m# #         v_int.coords[co] = temp[co]\u001b[0m\u001b[0;34m\u001b[0m\u001b[0;34m\u001b[0m\u001b[0;34m\u001b[0m\u001b[0m\n\u001b[1;32m      9\u001b[0m     \u001b[0mprint\u001b[0m\u001b[0;34m(\u001b[0m\u001b[0mv_int\u001b[0m\u001b[0;34m)\u001b[0m\u001b[0;34m\u001b[0m\u001b[0;34m\u001b[0m\u001b[0m\n\u001b[0;32m---> 10\u001b[0;31m     \u001b[0mmoc\u001b[0m \u001b[0;34m=\u001b[0m \u001b[0mgrid\u001b[0m\u001b[0;34m.\u001b[0m\u001b[0mcumsum\u001b[0m\u001b[0;34m(\u001b[0m\u001b[0mv_int\u001b[0m\u001b[0;34m*\u001b[0m\u001b[0mv_int\u001b[0m\u001b[0;34m.\u001b[0m\u001b[0mdyne\u001b[0m\u001b[0;34m,\u001b[0m \u001b[0;34m'Y'\u001b[0m\u001b[0;34m)\u001b[0m\u001b[0;34m\u001b[0m\u001b[0;34m\u001b[0m\u001b[0m\n\u001b[0m\u001b[1;32m     11\u001b[0m     \u001b[0;32mreturn\u001b[0m \u001b[0mmoc\u001b[0m\u001b[0;34m\u001b[0m\u001b[0;34m\u001b[0m\u001b[0m\n",
      "\u001b[0;32m/srv/conda/envs/notebook/lib/python3.7/site-packages/xarray/core/common.py\u001b[0m in \u001b[0;36m__getattr__\u001b[0;34m(self, name)\u001b[0m\n\u001b[1;32m    226\u001b[0m                     \u001b[0;32mreturn\u001b[0m \u001b[0msource\u001b[0m\u001b[0;34m[\u001b[0m\u001b[0mname\u001b[0m\u001b[0;34m]\u001b[0m\u001b[0;34m\u001b[0m\u001b[0;34m\u001b[0m\u001b[0m\n\u001b[1;32m    227\u001b[0m         raise AttributeError(\n\u001b[0;32m--> 228\u001b[0;31m             \u001b[0;34m\"%r object has no attribute %r\"\u001b[0m \u001b[0;34m%\u001b[0m \u001b[0;34m(\u001b[0m\u001b[0mtype\u001b[0m\u001b[0;34m(\u001b[0m\u001b[0mself\u001b[0m\u001b[0;34m)\u001b[0m\u001b[0;34m.\u001b[0m\u001b[0m__name__\u001b[0m\u001b[0;34m,\u001b[0m \u001b[0mname\u001b[0m\u001b[0;34m)\u001b[0m\u001b[0;34m\u001b[0m\u001b[0;34m\u001b[0m\u001b[0m\n\u001b[0m\u001b[1;32m    229\u001b[0m         )\n\u001b[1;32m    230\u001b[0m \u001b[0;34m\u001b[0m\u001b[0m\n",
      "\u001b[0;31mAttributeError\u001b[0m: 'DataArray' object has no attribute 'dyne'"
     ]
    }
   ],
   "source": [
    "streamf = moc(ds_test.vo, grid) "
   ]
  },
  {
   "cell_type": "code",
   "execution_count": 117,
   "metadata": {},
   "outputs": [],
   "source": [
    "# TODO: \n",
    "# enable the full preprocessing on just tracer set (assume right shift?)\n",
    "# use area if available, also dz\n",
    "# reconstruct dz if not available\n",
    "# are all the models bousinesque? (and is the ref density always 1035?) - for the heat capacity\n",
    "\n",
    "# Issue about conserving coords (at least the metrics!)"
   ]
  },
  {
   "cell_type": "code",
   "execution_count": null,
   "metadata": {},
   "outputs": [],
   "source": []
  }
 ],
 "metadata": {
  "kernelspec": {
   "display_name": "Python 3",
   "language": "python",
   "name": "python3"
  },
  "language_info": {
   "codemirror_mode": {
    "name": "ipython",
    "version": 3
   },
   "file_extension": ".py",
   "mimetype": "text/x-python",
   "name": "python",
   "nbconvert_exporter": "python",
   "pygments_lexer": "ipython3",
   "version": "3.7.3"
  }
 },
 "nbformat": 4,
 "nbformat_minor": 4
}
