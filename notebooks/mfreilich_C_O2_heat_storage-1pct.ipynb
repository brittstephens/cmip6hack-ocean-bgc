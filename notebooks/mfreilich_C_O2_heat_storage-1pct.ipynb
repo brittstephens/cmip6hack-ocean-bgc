{
 "cells": [
  {
   "cell_type": "markdown",
   "metadata": {},
   "source": [
    "# Uptake of carbon, heat, and oxygen\n",
    "\n",
    "Plotting a global map of carbon, heat, and oxygen uptake"
   ]
  },
  {
   "cell_type": "code",
   "execution_count": 1,
   "metadata": {},
   "outputs": [
    {
     "data": {
      "text/html": [
       "<table style=\"border: 2px solid white;\">\n",
       "<tr>\n",
       "<td style=\"vertical-align: top; border: 0px solid white\">\n",
       "<h3 style=\"text-align: left;\">Client</h3>\n",
       "<ul style=\"text-align: left; list-style: none; margin: 0; padding: 0;\">\n",
       "  <li><b>Scheduler: </b>tcp://10.32.15.112:36387</li>\n",
       "  <li><b>Dashboard: </b><a href='/user/0000-0003-0487-8518/proxy/8787/status' target='_blank'>/user/0000-0003-0487-8518/proxy/8787/status</a>\n",
       "</ul>\n",
       "</td>\n",
       "<td style=\"vertical-align: top; border: 0px solid white\">\n",
       "<h3 style=\"text-align: left;\">Cluster</h3>\n",
       "<ul style=\"text-align: left; list-style:none; margin: 0; padding: 0;\">\n",
       "  <li><b>Workers: </b>0</li>\n",
       "  <li><b>Cores: </b>0</li>\n",
       "  <li><b>Memory: </b>0 B</li>\n",
       "</ul>\n",
       "</td>\n",
       "</tr>\n",
       "</table>"
      ],
      "text/plain": [
       "<Client: 'tcp://10.32.15.112:36387' processes=0 threads=0, memory=0 B>"
      ]
     },
     "execution_count": 1,
     "metadata": {},
     "output_type": "execute_result"
    }
   ],
   "source": [
    "from dask.distributed import Client\n",
    "\n",
    "client = Client(\"tcp://10.32.15.112:36387\")\n",
    "client"
   ]
  },
  {
   "cell_type": "code",
   "execution_count": 2,
   "metadata": {},
   "outputs": [
    {
     "name": "stderr",
     "output_type": "stream",
     "text": [
      "/srv/conda/envs/notebook/lib/python3.7/site-packages/intake/source/discovery.py:136: FutureWarning: The drivers ['stac-catalog', 'stac-collection', 'stac-item'] do not specify entry_points and were only discovered via a package scan. This may break in a future release of intake. The packages should be updated.\n",
      "  FutureWarning)\n"
     ]
    }
   ],
   "source": [
    "%matplotlib inline\n",
    "\n",
    "import xarray as xr\n",
    "import intake\n",
    "import numpy as np\n",
    "from cmip6_preprocessing.preprocessing import read_data\n",
    "from cmip6_preprocessing.parse_static_metrics import parse_static_thkcello\n",
    "import warnings\n",
    "import matplotlib.pyplot as plt\n",
    "\n",
    "# util.py is in the local directory\n",
    "# it contains code that is common across project notebooks\n",
    "# or routines that are too extensive and might otherwise clutter\n",
    "# the notebook design\n",
    "import util "
   ]
  },
  {
   "cell_type": "code",
   "execution_count": 3,
   "metadata": {},
   "outputs": [],
   "source": [
    "def _compute_slope(y):\n",
    "    \"\"\"\n",
    "    Private function to compute slopes at each grid cell using\n",
    "    polyfit. \n",
    "    \"\"\"\n",
    "    x = np.arange(len(y))\n",
    "    return np.polyfit(x, y, 1)[0] # return only the slope\n",
    "\n",
    "def compute_slope(da):\n",
    "    \"\"\"\n",
    "    Computes linear slope (m) at each grid cell.\n",
    "    \n",
    "    Args:\n",
    "      da: xarray DataArray to compute slopes for\n",
    "      \n",
    "    Returns:\n",
    "      xarray DataArray with slopes computed at each grid cell.\n",
    "    \"\"\"\n",
    "    # apply_ufunc can apply a raw numpy function to a grid.\n",
    "    # \n",
    "    # vectorize is only needed for functions that aren't already\n",
    "    # vectorized. You don't need it for polyfit in theory, but it's\n",
    "    # good to use when using things like np.cov.\n",
    "    #\n",
    "    # dask='parallelized' parallelizes this across dask chunks. It requires\n",
    "    # an output_dtypes of the numpy array datatype coming out.\n",
    "    #\n",
    "    # input_core_dims should pass the dimension that is being *reduced* by this operation,\n",
    "    # if one is being reduced.\n",
    "    slopes = xr.apply_ufunc(_compute_slope,\n",
    "                            da,\n",
    "                            vectorize=True,\n",
    "                            dask='parallelized', \n",
    "                            input_core_dims=[['time']],\n",
    "                            output_dtypes=[float],\n",
    "                            )\n",
    "    return slopes"
   ]
  },
  {
   "cell_type": "code",
   "execution_count": 4,
   "metadata": {},
   "outputs": [],
   "source": [
    "if util.is_ncar_host():\n",
    "    col = intake.open_esm_datastore(\"../catalogs/glade-cmip6.json\")\n",
    "else:\n",
    "    col = intake.open_esm_datastore(\"../catalogs/pangeo-cmip6.json\")"
   ]
  },
  {
   "cell_type": "code",
   "execution_count": 5,
   "metadata": {},
   "outputs": [],
   "source": [
    "cat = col.search(experiment_id=['1pctCO2'], table_id='Oyr', variable_id=['dissic','thkcello'], grid_label='gn')\n",
    "\n",
    "import pprint \n",
    "uni_dict = col.unique(['source_id', 'experiment_id', 'table_id'])\n",
    "#pprint.pprint(uni_dict, compact=True)"
   ]
  },
  {
   "cell_type": "code",
   "execution_count": 50,
   "metadata": {},
   "outputs": [
    {
     "data": {
      "text/plain": [
       "['CESM2', 'CESM2-WACCM']"
      ]
     },
     "execution_count": 50,
     "metadata": {},
     "output_type": "execute_result"
    }
   ],
   "source": [
    "models = set(uni_dict['source_id']['values']) # all the models\n",
    "\n",
    "for experiment_id in ['1pctCO2']:\n",
    "    query = dict(experiment_id=experiment_id, table_id=['Oyr','Ofx'], \n",
    "                 variable_id=['dissic','thkcello'], grid_label='gn')  \n",
    "    cat = col.search(**query)\n",
    "    models = models.intersection({model for model in cat.df.source_id.unique().tolist()})\n",
    "\n",
    "# for oxygen, ensure the CESM2 models are not included (oxygen was erroneously submitted to the archive)\n",
    "# UKESM has an issue with the attributes\n",
    "#models = models - {'UKESM1-0-LL','GISS-E2-1-G-CC','GISS-E2-1-G','MCM-UA-1-0'}\n",
    "models = models - {'CanESM5'}\n",
    "\n",
    "models = list(models)\n",
    "models"
   ]
  },
  {
   "cell_type": "code",
   "execution_count": 51,
   "metadata": {},
   "outputs": [
    {
     "name": "stdout",
     "output_type": "stream",
     "text": [
      "--> The keys in the returned dictionary of datasets are constructed as follows:\n",
      "\t'activity_id.institution_id.source_id.experiment_id.table_id.grid_label'\n",
      "\n",
      "--> There will be 2 group(s)\n",
      "CESM2-WACCM\n",
      "NON-REFERENCE MODE. This should just be used for a bunch of variables on the same grid\n",
      "CESM2\n",
      "NON-REFERENCE MODE. This should just be used for a bunch of variables on the same grid\n"
     ]
    }
   ],
   "source": [
    "# read all data with oxygen\n",
    "with warnings.catch_warnings(): # these lines just make sure that the warnings dont clutter your notebook\n",
    "    warnings.simplefilter(\"ignore\")\n",
    "    data_dict_dic = read_data(col,\n",
    "                    experiment_id=['1pctCO2'],\n",
    "                    grid_label='gn',\n",
    "                    variable_id=['dissic'],\n",
    "                    table_id = ['Oyr'],\n",
    "                    source_id = models,\n",
    "                    #member_id = 'r1i1p1f1', # so that this runs faster for testing\n",
    "                    required_variable_id = ['dissic']\n",
    "                    )\n",
    "#data_dict_dic['IPSL-CM6A-LR'] = data_dict_dic['IPSL-CM6A-LR'].rename({'olevel':'lev'})"
   ]
  },
  {
   "cell_type": "code",
   "execution_count": 52,
   "metadata": {},
   "outputs": [],
   "source": [
    "data_dict_dic_thk = {k: parse_static_thkcello(ds) for k, ds in data_dict_dic.items()}"
   ]
  },
  {
   "cell_type": "markdown",
   "metadata": {},
   "source": [
    "### Loading data\n",
    "\n",
    "`intake-esm` enables loading data directly into an [xarray.Dataset](http://xarray.pydata.org/en/stable/api.html#dataset).\n",
    "\n",
    "Note that data on the cloud are in \n",
    "[zarr](https://zarr.readthedocs.io/en/stable/) format and data on \n",
    "[glade](https://www2.cisl.ucar.edu/resources/storage-and-file-systems/glade-file-spaces) are stored as \n",
    "[netCDF](https://www.unidata.ucar.edu/software/netcdf/) files. This is opaque to the user.\n",
    "\n",
    "`intake-esm` has rules for aggegating datasets; these rules are defined in the collection-specification file."
   ]
  },
  {
   "cell_type": "code",
   "execution_count": null,
   "metadata": {},
   "outputs": [],
   "source": [
    "#cat = col.search(experiment_id=['historical'], table_id='Omon', \n",
    "#                 variable_id=['dissic','thkcello'], grid_label='gn', source_id=models)"
   ]
  },
  {
   "cell_type": "code",
   "execution_count": null,
   "metadata": {},
   "outputs": [],
   "source": [
    "#dset_dict = cat.to_dataset_dict(zarr_kwargs={'consolidated': True, 'decode_times': False}, \n",
    "#                                cdf_kwargs={'chunks': {'time' : 20}, 'decode_times': False})"
   ]
  },
  {
   "cell_type": "markdown",
   "metadata": {},
   "source": [
    "`dset_dict` is a dictionary of `xarray.Dataset`'s; its keys are constructed to refer to compatible groups."
   ]
  },
  {
   "cell_type": "markdown",
   "metadata": {},
   "source": [
    "### Plotting DIC storage"
   ]
  },
  {
   "cell_type": "code",
   "execution_count": 14,
   "metadata": {},
   "outputs": [
    {
     "data": {
      "text/plain": [
       "dict_keys(['CanESM5', 'CESM2-WACCM', 'CESM2'])"
      ]
     },
     "execution_count": 14,
     "metadata": {},
     "output_type": "execute_result"
    }
   ],
   "source": [
    "data_dict_dic.keys()"
   ]
  },
  {
   "cell_type": "code",
   "execution_count": 53,
   "metadata": {},
   "outputs": [
    {
     "name": "stderr",
     "output_type": "stream",
     "text": [
      "/srv/conda/envs/notebook/lib/python3.7/site-packages/xarray/core/nanops.py:140: RuntimeWarning: Mean of empty slice\n",
      "  return np.nanmean(a, axis=axis, dtype=dtype)\n",
      "/srv/conda/envs/notebook/lib/python3.7/site-packages/xarray/core/nanops.py:140: RuntimeWarning: Mean of empty slice\n",
      "  return np.nanmean(a, axis=axis, dtype=dtype)\n"
     ]
    },
    {
     "data": {
      "image/png": "[encoded data removed]",
      "text/plain": [
       "<Figure size 720x360 with 4 Axes>"
      ]
     },
     "metadata": {
      "needs_background": "light"
     },
     "output_type": "display_data"
    }
   ],
   "source": [
    "fig, ax = plt.subplots(ncols=2, nrows=1,figsize=[10, 5])\n",
    "A = 0\n",
    "for model_key in data_dict_dic.keys():\n",
    "    dsC = data_dict_dic[model_key]\n",
    "    ds = dsC['dissic'].isel(lev = 0).chunk({'time': -1, 'x': 110, 'y': 110, 'member_id': 10})\n",
    "    #dz = dsC['thkcello'].isel(member_id=0)\n",
    "    #DICstore_slope = (ds.isel(time=-np.arange(10*12)).mean('time')*dz-ds.isel(time=np.arange(10*12)).mean('time')*dz).sum('lev')\n",
    "    slope = compute_slope(ds)\n",
    "    slope = slope.compute()\n",
    "    slope = slope.mean('member_id') # in mol/m^3/year\n",
    "    slope.plot(ax = ax[A])\n",
    "    ax[A].title.set_text(model_key)\n",
    "    A += 1\n",
    "fig.tight_layout()\n",
    "fig.savefig('rate_of_change_DIC_surface_1pctCO2.png')"
   ]
  },
  {
   "cell_type": "code",
   "execution_count": null,
   "metadata": {},
   "outputs": [],
   "source": [
    "fig, ax = plt.subplots(ncols=2, nrows=2,figsize=[10, 10])\n",
    "A = 0\n",
    "for model_key in data_dict_dic_thk.keys():\n",
    "    dsC = data_dict_dic_thk[model_key]\n",
    "    ds = dsC['dissic']\n",
    "    dz = dsC['thkcello']\n",
    "    DICstore = (ds*dz).sum('lev').chunk({'time': -1, 'x': 110, 'y': 110, 'member_id': 10})\n",
    "    slope = compute_slope(DICstore)\n",
    "    slope = slope.compute()\n",
    "    slope = slope.mean('member_id') # in mol/m^3/year\n",
    "    slope.sel(d2,0).plot(ax = ax[A][0],vmax = 40)\n",
    "    slope.sel(d2,1).plot(ax = ax[A][1],vmax = 40)\n",
    "    ax[A][0].title.set_text(model_key)\n",
    "    ax[A][1].title.set_text(model_key)\n",
    "    A += 1\n",
    "fig.tight_layout()\n",
    "fig.savefig('rate_of_change_DIC_content_1pctCO2.png')"
   ]
  },
  {
   "cell_type": "markdown",
   "metadata": {},
   "source": [
    "# Load heat content"
   ]
  },
  {
   "cell_type": "code",
   "execution_count": 41,
   "metadata": {},
   "outputs": [],
   "source": [
    "cat = col.search(experiment_id=['1pctCO2'], table_id='Oyr', variable_id=['thetao'], grid_label='gn')\n",
    "\n",
    "import pprint \n",
    "uni_dict = col.unique(['source_id', 'experiment_id', 'table_id'])\n",
    "#pprint.pprint(uni_dict, compact=True)"
   ]
  },
  {
   "cell_type": "code",
   "execution_count": 42,
   "metadata": {},
   "outputs": [
    {
     "data": {
      "text/plain": [
       "[]"
      ]
     },
     "execution_count": 42,
     "metadata": {},
     "output_type": "execute_result"
    }
   ],
   "source": [
    "models = set(uni_dict['source_id']['values']) # all the models\n",
    "\n",
    "for experiment_id in ['1pctCO2']:\n",
    "    query = dict(experiment_id=experiment_id, table_id=['Oyr','Ofx'], \n",
    "                 variable_id=['thetao'], grid_label='gn')  \n",
    "    cat = col.search(**query)\n",
    "    models = models.intersection({model for model in cat.df.source_id.unique().tolist()})\n",
    "\n",
    "# for oxygen, ensure the CESM2 models are not included (oxygen was erroneously submitted to the archive)\n",
    "# UKESM has an issue with the attributes\n",
    "#models = models - {'HadGEM3-GC31-LL','UKESM1-0-LL'}\n",
    "#{'UKESM1-0-LL','GISS-E2-1-G-CC','GISS-E2-1-G','MCM-UA-1-0'}\n",
    "\n",
    "models = list(models)\n",
    "models"
   ]
  },
  {
   "cell_type": "code",
   "execution_count": 43,
   "metadata": {},
   "outputs": [
    {
     "name": "stdout",
     "output_type": "stream",
     "text": [
      "--> The keys in the returned dictionary of datasets are constructed as follows:\n",
      "\t'activity_id.institution_id.source_id.experiment_id.table_id.grid_label'\n",
      "\n",
      "--> There will be 0 group(s)\n"
     ]
    }
   ],
   "source": [
    "# read all data with thickness and DIC for DIC storage\n",
    "with warnings.catch_warnings(): # these lines just make sure that the warnings dont clutter your notebook\n",
    "    warnings.simplefilter(\"ignore\")\n",
    "    data_dict_heat = read_data(col,\n",
    "                    experiment_id=['1pctCO2'],\n",
    "                    grid_label='gn',\n",
    "                    variable_id=['thetao'],\n",
    "                    table_id = ['Oyr'],\n",
    "                    source_id = models,\n",
    "                    #member_id = 'r1i1p1f1', # so that this runs faster for testing\n",
    "                    required_variable_id = ['thetao']\n",
    "                    )\n",
    "#data_dict_heat_thk['IPSL-CM6A-LR'] = data_dict_heat_thk['IPSL-CM6A-LR'].rename({'olevel':'lev'})"
   ]
  },
  {
   "cell_type": "code",
   "execution_count": 44,
   "metadata": {},
   "outputs": [],
   "source": [
    "data_dict_heat_thk = {k: parse_static_thkcello(ds) for k, ds in data_dict_heat.items()}"
   ]
  },
  {
   "cell_type": "markdown",
   "metadata": {},
   "source": [
    "# Plot heat content"
   ]
  },
  {
   "cell_type": "code",
   "execution_count": 45,
   "metadata": {},
   "outputs": [
    {
     "data": {
      "text/plain": [
       "dict_keys([])"
      ]
     },
     "execution_count": 45,
     "metadata": {},
     "output_type": "execute_result"
    }
   ],
   "source": [
    "data_dict_heat_thk.keys()"
   ]
  },
  {
   "cell_type": "code",
   "execution_count": null,
   "metadata": {},
   "outputs": [],
   "source": [
    "fig, ax = plt.subplots(ncols=3, nrows=2,figsize=[15, 10])\n",
    "A = 0\n",
    "for model_key in data_dict_heat_thk.keys():\n",
    "    dsC = data_dict_heat_thk[model_key]\n",
    "    ds = (dsC['thetao']+273.15)*4.15*1e6/1025 # heat content (assume constant density and heat capacity)\n",
    "    dz = dsC['thkcello']\n",
    "    DICstore = (ds*dz).sum('lev').chunk({'time': -1, 'x': 110, 'y': 110, 'member_id': 10})\n",
    "    slope = compute_slope(DICstore)\n",
    "    slope = slope.compute()\n",
    "    slope = slope.mean('member_id')*12 # in mol/m^3/year\n",
    "    A1 = int(np.floor(A/3))\n",
    "    A2 = np.mod(A,3)\n",
    "    slope.plot(ax = ax[A1][A2],vmax = 80000)\n",
    "    ax[A1][A2].title.set_text(model_key)\n",
    "    A += 1\n",
    "fig.tight_layout()\n",
    "fig.savefig('rate_of_change_heat_content_1pctCO2.png')"
   ]
  },
  {
   "cell_type": "markdown",
   "metadata": {},
   "source": [
    "# Load oxygen content"
   ]
  },
  {
   "cell_type": "code",
   "execution_count": 21,
   "metadata": {},
   "outputs": [],
   "source": [
    "cat = col.search(experiment_id=['piControl'], table_id='Omon', variable_id=['o2','thkcello'], grid_label='gn')\n",
    "\n",
    "import pprint \n",
    "uni_dict = col.unique(['source_id', 'experiment_id', 'table_id'])\n",
    "#pprint.pprint(uni_dict, compact=True)"
   ]
  },
  {
   "cell_type": "code",
   "execution_count": 22,
   "metadata": {},
   "outputs": [
    {
     "data": {
      "text/plain": [
       "['IPSL-CM6A-LR',\n",
       " 'HadGEM3-GC31-LL',\n",
       " 'BCC-CSM2-MR',\n",
       " 'CNRM-ESM2-1',\n",
       " 'BCC-ESM1',\n",
       " 'MCM-UA-1-0',\n",
       " 'MIROC-ES2L',\n",
       " 'CanESM5',\n",
       " 'SAM0-UNICON',\n",
       " 'CNRM-CM6-1']"
      ]
     },
     "execution_count": 22,
     "metadata": {},
     "output_type": "execute_result"
    }
   ],
   "source": [
    "models = set(uni_dict['source_id']['values']) # all the models\n",
    "\n",
    "for experiment_id in ['historical']:\n",
    "    query = dict(experiment_id=experiment_id, table_id=['Omon','Ofx'], \n",
    "                 variable_id=['o2','thkcello'], grid_label='gn')  \n",
    "    cat = col.search(**query)\n",
    "    models = models.intersection({model for model in cat.df.source_id.unique().tolist()})\n",
    "\n",
    "# for oxygen, ensure the CESM2 models are not included (oxygen was erroneously submitted to the archive)\n",
    "# UKESM has an issue with the attributes\n",
    "models = models - {'UKESM1-0-LL'}\n",
    "#{'UKESM1-0-LL','GISS-E2-1-G-CC','GISS-E2-1-G','MCM-UA-1-0'}\n",
    "\n",
    "models = list(models)\n",
    "models"
   ]
  },
  {
   "cell_type": "code",
   "execution_count": null,
   "metadata": {},
   "outputs": [],
   "source": [
    "# read all data with thickness and o2 for o2 content\n",
    "with warnings.catch_warnings(): # these lines just make sure that the warnings dont clutter your notebook\n",
    "    warnings.simplefilter(\"ignore\")\n",
    "    data_dict_o2_thk = read_data(col,\n",
    "                    experiment_id=['historical'],\n",
    "                    grid_label='gn',\n",
    "                    variable_id=['thkcello','o2'],\n",
    "                    table_id = ['Omon'],\n",
    "                    source_id = models,\n",
    "                    #member_id = 'r1i1p1f1', # so that this runs faster for testing\n",
    "                    required_variable_id = ['thkcello','o2']\n",
    "                    )\n",
    "#data_dict_o2_thk['IPSL-CM6A-LR'] = data_dict_o2_thk['IPSL-CM6A-LR'].rename({'olevel':'lev'})"
   ]
  },
  {
   "cell_type": "markdown",
   "metadata": {},
   "source": [
    "# Plot O2 content"
   ]
  },
  {
   "cell_type": "code",
   "execution_count": null,
   "metadata": {},
   "outputs": [],
   "source": [
    "data_dict_o2_thk.keys()"
   ]
  },
  {
   "cell_type": "code",
   "execution_count": null,
   "metadata": {},
   "outputs": [],
   "source": [
    "fig, ax = plt.subplots(ncols=2, nrows=1,figsize=[10, 5])\n",
    "A = 0\n",
    "for model_key in data_dict_o2_thk.keys():\n",
    "    dsC = data_dict_o2_thk[model_key]\n",
    "    ds = dsC['o2']\n",
    "    dz = dsC['thkcello'].isel(member_id=0)\n",
    "    DICstore = (ds*dz).sum('lev').chunk({'time': -1, 'x': 110, 'y': 110, 'member_id': 10})\n",
    "    slope = compute_slope(DICstore)\n",
    "    slope = slope.compute()\n",
    "    slope = slope.mean('member_id')*12 # in mol/m^3/year\n",
    "    slope.plot(ax = ax[A],vmax = 0.8)\n",
    "    ax[A].title.set_text(model_key)\n",
    "    A += 1\n",
    "fig.tight_layout()\n",
    "fig.savefig('rate_of_change_o2_content_historical.png')"
   ]
  },
  {
   "cell_type": "code",
   "execution_count": null,
   "metadata": {},
   "outputs": [],
   "source": []
  }
 ],
 "metadata": {
  "kernelspec": {
   "display_name": "Python 3",
   "language": "python",
   "name": "python3"
  },
  "language_info": {
   "codemirror_mode": {
    "name": "ipython",
    "version": 3
   },
   "file_extension": ".py",
   "mimetype": "text/x-python",
   "name": "python",
   "nbconvert_exporter": "python",
   "pygments_lexer": "ipython3",
   "version": "3.7.3"
  }
 },
 "nbformat": 4,
 "nbformat_minor": 4
}
